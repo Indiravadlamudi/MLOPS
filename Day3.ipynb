{
 "cells": [
  {
   "cell_type": "markdown",
   "metadata": {},
   "source": [
    "Write a program that uses if statements to determine if a number is even or odd."
   ]
  },
  {
   "cell_type": "code",
   "execution_count": 1,
   "metadata": {},
   "outputs": [
    {
     "name": "stdout",
     "output_type": "stream",
     "text": [
      "5 is odd.\n"
     ]
    }
   ],
   "source": [
    "num = 5\n",
    "if num % 2 == 0:\n",
    "    print(f\"{num} is even.\")\n",
    "else:\n",
    "    print(f\"{num} is odd.\")"
   ]
  },
  {
   "cell_type": "markdown",
   "metadata": {},
   "source": [
    "Use a for loop to iterate over a list of names and print greetings for each person."
   ]
  },
  {
   "cell_type": "code",
   "execution_count": 2,
   "metadata": {},
   "outputs": [
    {
     "name": "stdout",
     "output_type": "stream",
     "text": [
      "Hi, Manisha!\n",
      "Hi, Indira!\n",
      "Hi, Anna!\n"
     ]
    }
   ],
   "source": [
    "names = [\"Manisha\", \"Indira\", \"Anna\"]\n",
    "\n",
    "for name in names:\n",
    "    print(f\"Hi, {name}!\")"
   ]
  },
  {
   "cell_type": "markdown",
   "metadata": {},
   "source": [
    "Challenge yourself: Create a program that uses a while loop to guess a random number within a specific range"
   ]
  },
  {
   "cell_type": "code",
   "execution_count": 1,
   "metadata": {},
   "outputs": [
    {
     "name": "stdout",
     "output_type": "stream",
     "text": [
      "Try a higher number.\n",
      "Try a higher number.\n",
      "Try a higher number.\n",
      "Try a lower number.\n",
      "Try a higher number.\n",
      "Try a lower number.\n",
      "You guessed correctly.\n"
     ]
    }
   ],
   "source": [
    "import random\n",
    "lower_range = 1\n",
    "upper_range = 50\n",
    "target_num = random.randint(lower_range, upper_range)\n",
    "\n",
    "while True:\n",
    "    guess = int(input(f\"Guess a number between {lower_range} and {upper_range}: \"))\n",
    "    if guess == target_num:\n",
    "        print(\"You guessed correctly.\")\n",
    "        break\n",
    "    elif guess < target_num:\n",
    "        print(\"Try a higher number.\")\n",
    "    else:\n",
    "        print(\"Try a lower number.\")"
   ]
  },
  {
   "cell_type": "markdown",
   "metadata": {},
   "source": [
    "ou're managing a list of products with names, prices, and stock quantities:\n",
    "\n",
    "     products = [\n",
    "                 {\"name\": \"T-Shirt\", \"price\": 15.99, \"quantity\": 100},\n",
    "                 {\"name\": \"Coffee Mug\", \"price\": 7.50, \"quantity\": 50},\n",
    "                 {\"name\": \"Notebook\", \"price\": 8.99, \"quantity\": 75},\n",
    "             ]\n",
    "\n",
    "Find Low Stock Products: Write a code block that iterates through the products list and identifies products with a stock quantity less than 20. Print the names of those products.\n",
    "\n",
    "Array Slicing and Price Formatting: Create a new list containing only the product names from the products list. Use array slicing to extract the desired elements. Then, format the prices in the products list to display them with two decimal places (e.g., $15.99)."
   ]
  },
  {
   "cell_type": "code",
   "execution_count": 2,
   "metadata": {},
   "outputs": [
    {
     "name": "stdout",
     "output_type": "stream",
     "text": [
      "Pen is low in stock.\n"
     ]
    }
   ],
   "source": [
    "products = [\n",
    "    {\"name\": \"T-Shirt\", \"price\": 15.99, \"quantity\": 100},\n",
    "    {\"name\": \"Coffee Mug\", \"price\": 7.50, \"quantity\": 50},\n",
    "    {\"name\": \"Notebook\", \"price\": 8.99, \"quantity\": 75},\n",
    "    {\"name\": \"Pen\", \"price\": 2.50, \"quantity\": 10}, \n",
    "]\n",
    "\n",
    "for product in products:\n",
    "    if product[\"quantity\"] < 20:\n",
    "        print(f\"{product['name']} is low in stock.\")"
   ]
  },
  {
   "cell_type": "code",
   "execution_count": 3,
   "metadata": {},
   "outputs": [
    {
     "name": "stdout",
     "output_type": "stream",
     "text": [
      "Product names: ['T-Shirt', 'Coffee Mug', 'Notebook', 'Pen']\n",
      "Product prices: ['$15.99', '$7.50', '$8.99', '$2.50']\n"
     ]
    }
   ],
   "source": [
    "product_names = [product[\"name\"] for product in products]\n",
    "product_prices = [f\"${product['price']:.2f}\" for product in products]\n",
    "\n",
    "print(\"Product names:\", product_names)\n",
    "print(\"Product prices:\", product_prices)"
   ]
  },
  {
   "cell_type": "markdown",
   "metadata": {},
   "source": [
    "Create 3 variables to store street, city and country, now create address variable to store entire address. Use two ways of creating this variable, one using + operator and the other using f-string. Now Print the address in such a way that the street, city and country prints in a separate line"
   ]
  },
  {
   "cell_type": "code",
   "execution_count": 4,
   "metadata": {},
   "outputs": [
    {
     "name": "stdout",
     "output_type": "stream",
     "text": [
      "Address using '+':\n",
      "100 penn St,\n",
      "Texas,\n",
      "United States\n",
      "\n",
      "Address (f-string):\n",
      "100 penn St,\n",
      "Texas,\n",
      "United States\n"
     ]
    }
   ],
   "source": [
    "street = \"100 penn St\"\n",
    "city = \"Texas\"\n",
    "country = \"United States\"\n",
    "\n",
    "# Using +\n",
    "address_concat = street + \",\\n\" + city + \",\\n\" + country\n",
    "print(\"Address using '+':\")\n",
    "print(address_concat)\n",
    "\n",
    "# Using f-string\n",
    "address_fstring = f\"{street},\\n{city},\\n{country}\"\n",
    "print(\"\\nAddress (f-string):\")\n",
    "print(address_fstring)"
   ]
  },
  {
   "cell_type": "markdown",
   "metadata": {},
   "source": [
    "Create a variable to store the string \"Earth revolves around the sun\" Print \"revolves\" using slice operator Print \"sun\" using negative index"
   ]
  },
  {
   "cell_type": "code",
   "execution_count": 5,
   "metadata": {},
   "outputs": [
    {
     "name": "stdout",
     "output_type": "stream",
     "text": [
      "revolves\n",
      "sun\n"
     ]
    }
   ],
   "source": [
    "str = \"Earth revolves around the sun\"\n",
    "\n",
    "\n",
    "print(str[6:14])\n",
    "\n",
    "print(str[-3:])"
   ]
  },
  {
   "cell_type": "markdown",
   "metadata": {},
   "source": [
    "Create two variables to store how many fruits and vegetables you eat in a day. Now Print \"I eat x veggies and y fruits daily\" where x and y presents vegetables and fruits that you eat everyday. Use python f string for this."
   ]
  },
  {
   "cell_type": "code",
   "execution_count": 6,
   "metadata": {},
   "outputs": [
    {
     "name": "stdout",
     "output_type": "stream",
     "text": [
      "I eat 2 vegetables and 5 fruits daily.\n"
     ]
    }
   ],
   "source": [
    "\n",
    "fruits = 5\n",
    "vegetables = 2\n",
    "\n",
    "print(f\"I eat {vegetables} vegetables and {fruits} fruits daily.\")"
   ]
  },
  {
   "cell_type": "markdown",
   "metadata": {},
   "source": [
    "I have a string variable called s='maine 200 banana khaye'. This of course is a wrong statement, the correct statement is 'maine 10 samosa khaye'. Replace incorrect words in original strong with new ones and print the new string. Also try to do this in one line."
   ]
  },
  {
   "cell_type": "code",
   "execution_count": 7,
   "metadata": {},
   "outputs": [
    {
     "name": "stdout",
     "output_type": "stream",
     "text": [
      "maine 10 samosa khaye\n"
     ]
    }
   ],
   "source": [
    "sentence = 'maine 200 banana khaye'\n",
    "print(sentence.replace('200 banana', '10 samosa'))"
   ]
  },
  {
   "cell_type": "markdown",
   "metadata": {},
   "source": [
    "Using following list of cities per country,\n",
    "\n",
    "     india = [\"mumbai\", \"banglore\", \"chennai\", \"delhi\"]\n",
    "     pakistan = [\"lahore\",\"karachi\",\"islamabad\"]\n",
    "     bangladesh = [\"dhaka\", \"khulna\", \"rangpur\"]\n",
    "\n",
    "a. Write a program that asks user to enter a city name and it should tell which country the city belongs to\n",
    "\n",
    "b. Write a program that asks user to enter two cities and it tells you if they both are in same country or not. For example if I enter mumbai and chennai, it will print \"Both cities are in India\" but if I enter mumbai and dhaka it should print \"They don't belong to same country\"\n"
   ]
  },
  {
   "cell_type": "code",
   "execution_count": 10,
   "metadata": {},
   "outputs": [
    {
     "name": "stdout",
     "output_type": "stream",
     "text": [
      "Mumbai -  India.\n",
      "Both cities are in India.\n"
     ]
    }
   ],
   "source": [
    "india = [\"mumbai\", \"bangalore\", \"chennai\", \"delhi\"]\n",
    "pakistan = [\"lahore\", \"karachi\", \"islamabad\"]\n",
    "bangladesh = [\"dhaka\", \"khulna\", \"rangpur\"]\n",
    "\n",
    "\n",
    "city = \"mumbai\"\n",
    "\n",
    "if city in india:\n",
    "    print(f\"{city.title()} -  India.\")\n",
    "elif city in pakistan:\n",
    "    print(f\"{city.title()} - Pakistan.\")\n",
    "elif city in bangladesh:\n",
    "    print(f\"{city.title()} - Bangladesh.\")\n",
    "else:\n",
    "    print(f\"{city.title()} is not in the list of known cities.\")\n",
    "\n",
    "\n",
    "city1 = \"chennai\"\n",
    "city2 = \"delhi\"\n",
    "\n",
    "def country(city):\n",
    "    if city in india:\n",
    "        return \"India\"\n",
    "    elif city in pakistan:\n",
    "        return \"Pakistan\"\n",
    "    elif city in bangladesh:\n",
    "        return \"Bangladesh\"\n",
    "    else:\n",
    "        return None\n",
    "\n",
    "country1 = country(city1)\n",
    "country2 = country(city2)\n",
    "\n",
    "if country1 and country2:\n",
    "    if country1 == country2:\n",
    "        print(f\"Both cities are in {country1}.\")\n",
    "    else:\n",
    "        print(\"They don't belong to the same country.\")\n",
    "else:\n",
    "    print(\"Cities are not in the list of known cities.\")"
   ]
  },
  {
   "cell_type": "markdown",
   "metadata": {},
   "source": [
    "Write a python program that can tell you if your sugar is normal or not. Normal fasting level sugar range is 80 to 100. a. Ask user to enter his fasting sugar level b. If it is below 80 to 100 range then print that sugar is low c. If it is above 100 then print that it is high otherwise print that it is normal"
   ]
  },
  {
   "cell_type": "code",
   "execution_count": 13,
   "metadata": {},
   "outputs": [
    {
     "name": "stdout",
     "output_type": "stream",
     "text": [
      "Your sugar level is normal.\n"
     ]
    }
   ],
   "source": [
    "sugar_level = 90\n",
    "\n",
    "if sugar_level < 80:\n",
    "    print(\"Your sugar level is low.\")\n",
    "elif sugar_level > 100:\n",
    "    print(\"Your sugar level is high.\")\n",
    "else:\n",
    "    print(\"Your sugar level is normal.\")"
   ]
  },
  {
   "cell_type": "markdown",
   "metadata": {},
   "source": [
    "After flipping a coin 10 times you got this result,\n",
    "\n",
    "result = [\"heads\",\"tails\",\"tails\",\"heads\",\"tails\",\"heads\",\"heads\",\"tails\",\"tails\",\"tails\"] Using for loop figure out how many times you got heads\n"
   ]
  },
  {
   "cell_type": "code",
   "execution_count": 12,
   "metadata": {},
   "outputs": [
    {
     "name": "stdout",
     "output_type": "stream",
     "text": [
      "Heads appeared 4 times.\n"
     ]
    }
   ],
   "source": [
    "results = [\"heads\", \"tails\", \"tails\", \"heads\", \"tails\", \"heads\", \"heads\", \"tails\", \"tails\", \"tails\"]\n",
    "\n",
    "\n",
    "heads_count = 0\n",
    "for result in results:\n",
    "    if result == \"heads\":\n",
    "        heads_count += 1\n",
    "\n",
    "\n",
    "print(f\"Heads appeared {heads_count} times.\")"
   ]
  },
  {
   "cell_type": "markdown",
   "metadata": {},
   "source": [
    "Print square of all numbers between 1 to 10 except even numbers"
   ]
  },
  {
   "cell_type": "code",
   "execution_count": 14,
   "metadata": {},
   "outputs": [
    {
     "name": "stdout",
     "output_type": "stream",
     "text": [
      "Square of 1 is 1\n",
      "Square of 3 is 9\n",
      "Square of 5 is 25\n",
      "Square of 7 is 49\n",
      "Square of 9 is 81\n"
     ]
    }
   ],
   "source": [
    "for num in range(1, 10):\n",
    "    if num % 2 != 0:\n",
    "        print(f\"Square of {num} is {num ** 2}\")"
   ]
  },
  {
   "cell_type": "markdown",
   "metadata": {},
   "source": [
    "Your monthly expense list (from Jan to May) looks like this, expense_list = [2340, 2500, 2100, 3100, 2980] Write a program that asks you to enter an expense amount and program should tell you in which month that expense occurred. If expense is not found then it should print that as well."
   ]
  },
  {
   "cell_type": "code",
   "execution_count": 16,
   "metadata": {},
   "outputs": [
    {
     "name": "stdout",
     "output_type": "stream",
     "text": [
      "March'S expense is 2100.\n"
     ]
    }
   ],
   "source": [
    "expense_list = [2340, 2500, 2100, 3100, 2980]\n",
    "months = {0: \"January\", 1: \"February\", 2: \"March\", 3: \"April\", 4: \"May\"}\n",
    "\n",
    "#expense = int(input(\"Enter an expense amount: \"))\n",
    "expense = 2100\n",
    "if expense in expense_list:\n",
    "    month = expense_list.index(expense)\n",
    "    print(f\"{months[month]}'S expense is {expense}.\")\n",
    "else:\n",
    "    print(\"Expense not found.\")"
   ]
  },
  {
   "cell_type": "markdown",
   "metadata": {},
   "source": [
    "Lets say you are running a 5 km race. Write a program that,\n",
    "\n",
    "a. Upon completing each 1 km asks you \"are you tired?\"\n",
    "b. If you reply \"yes\" then it should break and print \"you didn't finish the race\"\n",
    "c. If you reply \"no\" then it should continue and ask \"are you tired\" on every km\n",
    "d. If you finish all 5 km then it should print congratulations message"
   ]
  },
  {
   "cell_type": "code",
   "execution_count": 18,
   "metadata": {},
   "outputs": [
    {
     "name": "stdout",
     "output_type": "stream",
     "text": [
      "You didn't finish the race.\n"
     ]
    }
   ],
   "source": [
    "for km in range(1, 6):\n",
    "    if km == 5:\n",
    "        print(f\"You have completed {km} km. Congratulations! You finished the race.\")\n",
    "        break\n",
    "    response = input(f\"You have completed {km} km. Are you tired? (yes/no): \").strip().lower()\n",
    "    if response == \"yes\":\n",
    "        print(\"You didn't finish the race.\")\n",
    "        break\n",
    "    elif response == \"no\":\n",
    "        continue\n",
    "    else:\n",
    "        print(\"Invalid. Please reply with 'yes' or 'no'.\")"
   ]
  }
 ],
 "metadata": {
  "kernelspec": {
   "display_name": "Python 3",
   "language": "python",
   "name": "python3"
  },
  "language_info": {
   "codemirror_mode": {
    "name": "ipython",
    "version": 3
   },
   "file_extension": ".py",
   "mimetype": "text/x-python",
   "name": "python",
   "nbconvert_exporter": "python",
   "pygments_lexer": "ipython3",
   "version": "3.11.1"
  }
 },
 "nbformat": 4,
 "nbformat_minor": 2
}
