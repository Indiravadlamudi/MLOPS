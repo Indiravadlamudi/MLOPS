{
 "cells": [
  {
   "cell_type": "markdown",
   "metadata": {},
   "source": [
    "Let us say your expense for every month are listed below,\n",
    "\n",
    "January -  2200\n",
    "\n",
    "February - 2350\n",
    "\n",
    "March - 2600\n",
    "\n",
    "April - 2130\n",
    "\n",
    "May - 2190\n",
    "\n",
    "Create a list to store these monthly expenses and using that find out,\n",
    "\n",
    "    In Feb, how many dollars you spent extra compare to January?\n",
    "\n",
    "    Find out your total expense in first quarter (first three months) of the year.\n",
    "\n",
    "    Find out if you spent exactly 2000 dollars in any month\n",
    "\n",
    "    June month just finished and your expense is 1980 dollar. Add this item to our monthly expense list\n",
    "\n",
    "    You returned an item that you bought in a month of April and got a refund of 200$. Make a correction to your monthly expense list based on this.\n"
   ]
  },
  {
   "cell_type": "code",
   "execution_count": null,
   "metadata": {},
   "outputs": [],
   "source": [
    "monthly_expenses = [2200, 2350, 2600, 2130, 2190]\n",
    "print(\"Monthly Expenses:\", monthly_expenses)\n",
    "\n",
    "january = monthly_expenses[0]\n",
    "february = monthly_expenses[1]\n",
    "march = monthly_expenses[2]\n",
    "april = monthly_expenses[3]\n",
    "may = monthly_expenses[4]\n",
    "\n",
    "extra_spending_feb = february - january\n",
    "print(\"Extra spending in February:\", extra_spending_feb)\n",
    "\n",
    "total_expense_firstquarter = sum(monthly_expenses[:3])\n",
    "print(\"Total expense in the first quarter:\", total_expense_firstquarter)\n",
    "\n",
    "spent_2000 = 2000 in monthly_expenses\n",
    "print(\"Spent exactly $2000 in any month:\", spent_2000)\n",
    "\n",
    "june = 1980\n",
    "monthly_expenses.append(june)\n",
    "print(\"Monthly Expenses:\", monthly_expenses)\n",
    "\n",
    "april_expense = april - 200\n",
    "monthly_expenses[3] = april_expense\n",
    "print(\" Expenses of April after refund:\", monthly_expenses[3])"
   ]
  },
  {
   "cell_type": "code",
   "execution_count": 2,
   "metadata": {},
   "outputs": [
    {
     "name": "stdout",
     "output_type": "stream",
     "text": [
      "Hello!\n"
     ]
    }
   ],
   "source": [
    "print(\"Hello!\")\n",
    "name = input(\"Enter your name: \")\n",
    "print(\"Your name is \" + name + \".\")"
   ]
  },
  {
   "cell_type": "code",
   "execution_count": 1,
   "metadata": {},
   "outputs": [
    {
     "name": "stdout",
     "output_type": "stream",
     "text": [
      "Now I know pb122!\n"
     ]
    }
   ],
   "source": [
    "namelist = ['wub_wub', 'RubyPinch', 'go|dfish', 'Nitori']\n",
    "namelist.append('pb122')\n",
    "if 'pb122' in namelist:\n",
    "    print(\"Now I know pb122!\")"
   ]
  },
  {
   "cell_type": "code",
   "execution_count": 1,
   "metadata": {},
   "outputs": [
    {
     "name": "stdout",
     "output_type": "stream",
     "text": [
      "I don't know you.\n"
     ]
    }
   ],
   "source": [
    "namelist = ['wub_wub', 'RubyPinch', 'go|dfish', 'Nitori']\n",
    "namelist.extend(['theelous3'])\n",
    "\n",
    "if input(\"Enter your name: \") in namelist:\n",
    "    print(\"I know you!\")\n",
    "else:\n",
    "    print(\"I don't know you.\")\n"
   ]
  },
  {
   "cell_type": "markdown",
   "metadata": {},
   "source": [
    "\n",
    "\n",
    "    Two Sum: Given an array of numbers and a target sum, find two numbers that add up to the target sum.\n",
    "        Solution: Use a dictionary to store seen numbers and their indices. For each new element, check if the complement (target - element) exists in the dictionary.\n",
    "\n",
    "    Remove Duplicates from Sorted Array: Given a sorted array, remove duplicates in-place and return the new length of the array without duplicates.\n",
    "        Solution: Use two pointers, one slow and one fast. The slow pointer keeps track of the unique elements, and the fast pointer iterates through the array. If the current element is not the same as the element pointed to by the slow pointer, it means a duplicate wasn't encountered yet. Update the slow pointer to point to the current element, effectively keeping only unique elements.\n",
    "\n",
    "    Pascals Triangle: Given an integer numRows, return a list of n pascals triangle rows (where n is the number of rows).\n",
    "        Solution: You can use a nested loop to iterate through rows and elements. However, since tuples are immutable, consider creating a new tuple for each row with the calculated values.\n",
    "\n",
    "    Product of Array Except Self: Given an integer array nums, return an array where the ith element is the product of all the elements in nums except the ith element.\n",
    "        Solution: Use two passes with a list (mutable). In the first pass, calculate the product of all elements to the left of each index. In the second pass, calculate the product of all elements to the right of each index and multiply it with the previously calculated left product for each index. Finally, convert the list to a tuple (immutable) for the final result.\n",
    "\n",
    "    Contains Duplicate: Given an integer array nums, return True if any element appears in the array more than once and False otherwise.\n",
    "        Solution: Use a set to store seen numbers. If adding a new element to the set fails (meaning a duplicate exists), return True. Otherwise, the loop continues, and False is returned at the end.\n",
    "\n",
    "    Intersection of Two Arrays: Given two integer arrays nums1 and nums2, return the intersection of the two arrays.\n",
    "        Solution: Convert one of the arrays to a set and iterate through the other array. If an element exists in the set, it's part of the intersection, so add it to the result list. Finally, convert the list to a set to remove duplicates if necessary.\n",
    "\n",
    "    Two Sum (Dictionary Approach): Given an array of numbers and a target sum, find two numbers that add up to the target sum.\n",
    "        Solution: Use a dictionary to store seen numbers and their indices. Iterate through the array and for each element, check if the complement (target - element) exists in the dictionary. If it does, you've found the two numbers.\n",
    "\n",
    "    Longest Substring Without Repeating Characters: Given a string s, find the length of the longest substring without repeating characters.\n",
    "        Solution: Use a dictionary to store the last seen index of each character. As you iterate through the string, keep track of the start index of the current substring. If you encounter a duplicate character, update the start index to be the max of the current start index and the last seen index of the duplicate character + 1 (to skip the duplicate). Keep track of the maximum length of the substring seen so far.\n"
   ]
  },
  {
   "cell_type": "code",
   "execution_count": 14,
   "metadata": {},
   "outputs": [
    {
     "name": "stdout",
     "output_type": "stream",
     "text": [
      "[0, 1]\n"
     ]
    }
   ],
   "source": [
    "def two_sum(nums, target):\n",
    "    seen = {}\n",
    "    for i, num in enumerate(nums):\n",
    "        complement = target - num\n",
    "        if complement in seen:\n",
    "            return [seen[complement], i]\n",
    "        seen[num] = i\n",
    "    return None\n",
    "\n",
    "\n",
    "nums = [2, 7, 11, 15]\n",
    "target = 9\n",
    "print(two_sum(nums, target)) \n"
   ]
  },
  {
   "cell_type": "code",
   "execution_count": 13,
   "metadata": {},
   "outputs": [
    {
     "name": "stdout",
     "output_type": "stream",
     "text": [
      "2\n",
      "[1, 2]\n"
     ]
    }
   ],
   "source": [
    "def remove_duplicates(nums):\n",
    "    if not nums:\n",
    "        return 0\n",
    "    slow = 0\n",
    "    for fast in range(1, len(nums)):\n",
    "        if nums[fast] != nums[slow]:\n",
    "            slow += 1\n",
    "            nums[slow] = nums[fast]\n",
    "    return slow + 1\n",
    "\n",
    "\n",
    "nums = [1, 1, 2]\n",
    "new_length = remove_duplicates(nums)\n",
    "print(new_length)  \n",
    "print(nums[:new_length])  \n"
   ]
  },
  {
   "cell_type": "code",
   "execution_count": 12,
   "metadata": {},
   "outputs": [
    {
     "name": "stdout",
     "output_type": "stream",
     "text": [
      "[[1], [1, 1], [1, 2, 1], [1, 3, 3, 1], [1, 4, 6, 4, 1]]\n"
     ]
    }
   ],
   "source": [
    "def generate_pascals_triangle(numRows):\n",
    "    triangle = []\n",
    "    for row in range(numRows):\n",
    "        new_row = [1] * (row + 1)\n",
    "        for col in range(1, row):\n",
    "            new_row[col] = triangle[row - 1][col - 1] + triangle[row - 1][col]\n",
    "        triangle.append(new_row)\n",
    "    return triangle\n",
    "\n",
    "\n",
    "numRows = 5\n",
    "print(generate_pascals_triangle(numRows))\n",
    "\n"
   ]
  },
  {
   "cell_type": "code",
   "execution_count": 10,
   "metadata": {},
   "outputs": [
    {
     "name": "stdout",
     "output_type": "stream",
     "text": [
      "[24, 12, 8, 6]\n"
     ]
    }
   ],
   "source": [
    "def product_except_self(nums):\n",
    "    length = len(nums)\n",
    "    left_products = [1] * length\n",
    "    right_products = [1] * length\n",
    "    result = [1] * length\n",
    "    \n",
    "    for i in range(1, length):\n",
    "        left_products[i] = left_products[i - 1] * nums[i - 1]\n",
    "    \n",
    "    for i in range(length - 2, -1, -1):\n",
    "        right_products[i] = right_products[i + 1] * nums[i + 1]\n",
    "    \n",
    "    for i in range(length):\n",
    "        result[i] = left_products[i] * right_products[i]\n",
    "    \n",
    "    return result\n",
    "\n",
    "\n",
    "nums = [1, 2, 3, 4]\n",
    "print(product_except_self(nums))  \n"
   ]
  },
  {
   "cell_type": "code",
   "execution_count": 9,
   "metadata": {},
   "outputs": [
    {
     "name": "stdout",
     "output_type": "stream",
     "text": [
      "True\n"
     ]
    }
   ],
   "source": [
    "def contains_duplicate(nums):\n",
    "    seen = set()\n",
    "    for num in nums:\n",
    "        if num in seen:\n",
    "            return True\n",
    "        seen.add(num)\n",
    "    return False\n",
    "\n",
    "\n",
    "nums = [1, 2, 3, 1]\n",
    "print(contains_duplicate(nums))  \n"
   ]
  },
  {
   "cell_type": "code",
   "execution_count": 15,
   "metadata": {},
   "outputs": [
    {
     "name": "stdout",
     "output_type": "stream",
     "text": [
      "[2]\n"
     ]
    }
   ],
   "source": [
    "def intersection(nums1, nums2):\n",
    "    set1 = set(nums1)\n",
    "    result = [num for num in nums2 if num in set1]\n",
    "    return list(set(result))\n",
    "\n",
    "\n",
    "nums1 = [1, 2, 2, 1]\n",
    "nums2 = [2, 2]\n",
    "print(intersection(nums1, nums2)) \n"
   ]
  },
  {
   "cell_type": "code",
   "execution_count": 16,
   "metadata": {},
   "outputs": [
    {
     "name": "stdout",
     "output_type": "stream",
     "text": [
      "3\n"
     ]
    }
   ],
   "source": [
    "def length_of_longest_substring(s):\n",
    "    char_index = {}\n",
    "    start = maxLength = 0\n",
    "    \n",
    "    for i, char in enumerate(s):\n",
    "        if char in char_index and start <= char_index[char]:\n",
    "            start = char_index[char] + 1\n",
    "        else:\n",
    "            maxLength = max(maxLength, i - start + 1)\n",
    "        char_index[char] = i\n",
    "    \n",
    "    return maxLength\n",
    "\n",
    "\n",
    "s = \"abcabcbb\"\n",
    "print(length_of_longest_substring(s)) \n"
   ]
  }
 ],
 "metadata": {
  "kernelspec": {
   "display_name": "Python 3",
   "language": "python",
   "name": "python3"
  },
  "language_info": {
   "codemirror_mode": {
    "name": "ipython",
    "version": 3
   },
   "file_extension": ".py",
   "mimetype": "text/x-python",
   "name": "python",
   "nbconvert_exporter": "python",
   "pygments_lexer": "ipython3",
   "version": "3.11.1"
  }
 },
 "nbformat": 4,
 "nbformat_minor": 2
}
