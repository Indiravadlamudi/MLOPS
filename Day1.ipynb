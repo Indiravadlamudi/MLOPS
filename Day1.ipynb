{
 "cells": [
  {
   "cell_type": "markdown",
   "metadata": {},
   "source": [
    "Age"
   ]
  },
  {
   "cell_type": "code",
   "execution_count": 1,
   "metadata": {},
   "outputs": [
    {
     "name": "stdout",
     "output_type": "stream",
     "text": [
      "I am 38 years old.\n"
     ]
    }
   ],
   "source": [
    "birth_year = 1986\n",
    "current_year = 2024\n",
    "age = current_year - birth_year\n",
    "print(\"I am\",age, \"years old.\")"
   ]
  },
  {
   "cell_type": "markdown",
   "metadata": {},
   "source": [
    "Area"
   ]
  },
  {
   "cell_type": "code",
   "execution_count": 2,
   "metadata": {},
   "outputs": [
    {
     "name": "stdout",
     "output_type": "stream",
     "text": [
      "Total area of the football field in square meters is : 4489.599999999999\n"
     ]
    }
   ],
   "source": [
    "length = 92\n",
    "width = 48.8\n",
    "total_area = length * width\n",
    "print(\"Total area of the football field in square meters is :\", total_area)"
   ]
  },
  {
   "cell_type": "markdown",
   "metadata": {},
   "source": [
    "bin-17"
   ]
  },
  {
   "cell_type": "code",
   "execution_count": 3,
   "metadata": {},
   "outputs": [
    {
     "name": "stdout",
     "output_type": "stream",
     "text": [
      "17 is represented in binary as 0b10001\n"
     ]
    }
   ],
   "source": [
    "print(\"17 is represented in binary as\",bin(17))"
   ]
  },
  {
   "cell_type": "markdown",
   "metadata": {},
   "source": [
    "change remaining"
   ]
  },
  {
   "cell_type": "code",
   "execution_count": 4,
   "metadata": {},
   "outputs": [
    {
     "name": "stdout",
     "output_type": "stream",
     "text": [
      "Change from the shopkeeper in dollars is  6.59\n"
     ]
    }
   ],
   "source": [
    "packets = 9\n",
    "packet_cost = 1.49\n",
    "total_cost = packets * packet_cost\n",
    "amount_paid = 20\n",
    "change = amount_paid - total_cost\n",
    "print(\"Change from the shopkeeper in dollars is \", change)"
   ]
  },
  {
   "cell_type": "markdown",
   "metadata": {},
   "source": [
    "name"
   ]
  },
  {
   "cell_type": "code",
   "execution_count": 5,
   "metadata": {},
   "outputs": [
    {
     "name": "stdout",
     "output_type": "stream",
     "text": [
      "My full name is: Indira  Vadlamudi\n"
     ]
    }
   ],
   "source": [
    "first_name = \"Indira\"\n",
    "middle_name = \"\"\n",
    "last_name = \"Vadlamudi\"\n",
    "full_name = first_name + \" \" + middle_name + \" \" + last_name\n",
    "print(\"My full name is:\",full_name)"
   ]
  },
  {
   "cell_type": "markdown",
   "metadata": {},
   "source": [
    "order"
   ]
  },
  {
   "cell_type": "code",
   "execution_count": 6,
   "metadata": {},
   "outputs": [
    {
     "name": "stdout",
     "output_type": "stream",
     "text": [
      "Shipping charges apply.\n"
     ]
    }
   ],
   "source": [
    "Order_amount = float(input(\"Enter order amount: \"))\n",
    "if Order_amount > 50:\n",
    "    print(\"Free shipping!\")\n",
    "else:\n",
    "    print(\"Shipping charges apply.\")"
   ]
  },
  {
   "cell_type": "markdown",
   "metadata": {},
   "source": [
    "temperature"
   ]
  },
  {
   "cell_type": "code",
   "execution_count": 7,
   "metadata": {},
   "outputs": [
    {
     "name": "stdout",
     "output_type": "stream",
     "text": [
      "Temperature in Fahrenheit: 140.0 degrees Fahrenheit\n"
     ]
    }
   ],
   "source": [
    "Temp = float(input(\"Enter temperature: \"))\n",
    "Unit = input(\"Enter unit (C/F): \").upper()\n",
    "if Unit == \"C\":\n",
    "    Converted_temp = (Temp * 9/5) + 32\n",
    "    print(\"Temperature in Fahrenheit:\", Converted_temp, \"degrees Fahrenheit\")\n",
    "elif Unit == \"F\":\n",
    "    Converted_temp = (Temp - 32) * 5/9\n",
    "    print(\"Temperature in Celsius:\", Converted_temp, \"degrees Celsius\")\n",
    "else:\n",
    "    print(\"Invalid unit entered.\")\n"
   ]
  },
  {
   "cell_type": "markdown",
   "metadata": {},
   "source": [
    "TICKET\n"
   ]
  },
  {
   "cell_type": "code",
   "execution_count": 8,
   "metadata": {},
   "outputs": [
    {
     "name": "stdout",
     "output_type": "stream",
     "text": [
      "Ticket price for adults: $10.00\n"
     ]
    }
   ],
   "source": [
    "Age = int(input(\"Please enter your age: \"))\n",
    "if Age >= 65:\n",
    "    print(\"Ticket price for adults: $10.00\")\n",
    "elif Age < 12:\n",
    "    print(\"Ticket price for children: $8.00\")\n",
    "else:\n",
    "    print(\"Ticket price for seniors: $12.50\")"
   ]
  },
  {
   "cell_type": "markdown",
   "metadata": {},
   "source": [
    "Tiles cost"
   ]
  },
  {
   "cell_type": "code",
   "execution_count": 9,
   "metadata": {},
   "outputs": [
    {
     "name": "stdout",
     "output_type": "stream",
     "text": [
      "Total cost to replace all tiles is 15125.0 Rs\n"
     ]
    }
   ],
   "source": [
    "length = 5.5\n",
    "tilecost_per_sqft = 500\n",
    "total_cost = length ** 2 * tilecost_per_sqft\n",
    "print(\"Total cost to replace all tiles is\", total_cost, \"Rs\")"
   ]
  },
  {
   "cell_type": "markdown",
   "metadata": {},
   "source": [
    "Valid/Invalid"
   ]
  },
  {
   "cell_type": "code",
   "execution_count": 10,
   "metadata": {},
   "outputs": [
    {
     "ename": "SyntaxError",
     "evalue": "invalid decimal literal (3022671188.py, line 2)",
     "output_type": "error",
     "traceback": [
      "\u001b[1;36m  Cell \u001b[1;32mIn[10], line 2\u001b[1;36m\u001b[0m\n\u001b[1;33m    1record = 4  // Invalid. Variable names cannot start with a number. They must start with a letter or an underscore.\u001b[0m\n\u001b[1;37m    ^\u001b[0m\n\u001b[1;31mSyntaxError\u001b[0m\u001b[1;31m:\u001b[0m invalid decimal literal\n"
     ]
    }
   ],
   "source": [
    "_nation = 0 //Valid. Variable names can start with an underscore.\n",
    "1record = 4  // Invalid. Variable names cannot start with a number. They must start with a letter or an underscore.\n",
    "record1 = 6  // Valid. This is a valid variable name, as it starts with a letter and includes a number.\n",
    "record_one = 8 // Valid. This is a valid variable name, as it uses an underscore to separate words\n",
    "record-one =9  //Invalid.  variable names cannot contain hyphens (-). \n",
    "record^one = 5 //variable names cannot contain special characters like the caret symbol (^).\n",
    "continue = 3  //Invalid In  Python, continue is a reserved keyword and cannot be used as a variable name."
   ]
  },
  {
   "cell_type": "markdown",
   "metadata": {},
   "source": [
    "leap year or not"
   ]
  },
  {
   "cell_type": "code",
   "execution_count": 11,
   "metadata": {},
   "outputs": [
    {
     "name": "stdout",
     "output_type": "stream",
     "text": [
      "2024 is a Leap year\n"
     ]
    }
   ],
   "source": [
    "Year = int(input(\"Enter a year: \"))\n",
    "if (Year % 4 == 0 and Year % 100 != 0) or (Year % 400 == 0):\n",
    "    print(Year,\"is a Leap year\")\n",
    "else:\n",
    "    print(Year,\"is not a leap year.\")"
   ]
  }
 ],
 "metadata": {
  "kernelspec": {
   "display_name": "Python 3",
   "language": "python",
   "name": "python3"
  },
  "language_info": {
   "codemirror_mode": {
    "name": "ipython",
    "version": 3
   },
   "file_extension": ".py",
   "mimetype": "text/x-python",
   "name": "python",
   "nbconvert_exporter": "python",
   "pygments_lexer": "ipython3",
   "version": "3.11.1"
  }
 },
 "nbformat": 4,
 "nbformat_minor": 2
}
