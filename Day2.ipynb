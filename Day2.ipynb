{
 "cells": [
  {
   "cell_type": "markdown",
   "metadata": {},
   "source": [
    "Create a sample class named Employee with two attributes id and name employee : id name object initializes id and name dynamically for every Employee object created\n",
    "\n",
    "emp = Employee(1, \"coder\")"
   ]
  },
  {
   "cell_type": "code",
   "execution_count": 1,
   "metadata": {},
   "outputs": [
    {
     "name": "stdout",
     "output_type": "stream",
     "text": [
      "Employee id of Developer is 101\n",
      "Employee id of Manager is 102\n",
      "Employee id of Coder is 103\n"
     ]
    }
   ],
   "source": [
    "class Employee:\n",
    "\n",
    "    def __init__(self, id, name): \n",
    "        self.id = id\n",
    "        self.name = name\n",
    "\n",
    "    def employee_id(self):\n",
    "        print(f\"Employee id of {self.name} is {self.id}\")\n",
    "    \n",
    "emp1 = Employee(101,\"Developer\")\n",
    "emp2 = Employee(102,\"Manager\")\n",
    "emp3 = Employee(103,\"Coder\")\n",
    "\n",
    "emp1.employee_id()\n",
    "emp2.employee_id()\n",
    "emp3.employee_id()\n"
   ]
  },
  {
   "cell_type": "markdown",
   "metadata": {},
   "source": [
    "Use del property to first delete id attribute and then the entire object"
   ]
  },
  {
   "cell_type": "code",
   "execution_count": 4,
   "metadata": {},
   "outputs": [
    {
     "name": "stdout",
     "output_type": "stream",
     "text": [
      "Employee id of Developer is 1\n",
      "No id assigned to Developer\n"
     ]
    }
   ],
   "source": [
    "class Employee:\n",
    "\n",
    "    def __init__(self, id, name): \n",
    "        self.id = id\n",
    "        self.name = name\n",
    "\n",
    "    def employee_id(self):\n",
    "        if hasattr(self, 'id'):\n",
    "            print(f\"Employee id of {self.name} is {self.id}\")\n",
    "        else:\n",
    "            print(f\"No id assigned to {self.name}\")\n",
    "    \n",
    "emp = Employee(1,\"Developer\")\n",
    "emp.employee_id()\n",
    "del emp.id\n",
    "emp.employee_id()\n",
    "del emp"
   ]
  },
  {
   "cell_type": "markdown",
   "metadata": {},
   "source": [
    "When would you use a static method instead of a regular method?\n",
    "Static methods are useful when you need to perform operations related to a class but don't require access to instance-specific or class-specific data. They are ideal for utility functions or helper methods that logically belong to a class but operate independently of instance or class state. Using static methods helps in organizing related functions within a class without needing to instantiate objects."
   ]
  },
  {
   "cell_type": "markdown",
   "metadata": {},
   "source": [
    "ou defined a class attribute (color) for the Car class. Why can't you directly change the color of a specific car object (e.g., car1.color = \"blue\")? How would you achieve this? Class attribute in Python, it belongs to the class itself rather than any specific instance (object) of that class. the attribute is shared among all instances of the class. A class attribute is defined within the class but outside any methods. It is accessible using the class name (e.g., Car.color) and is shared by all instances of the class. To change the color directly we can use Instance attributes, which are specific to each object created from the class. They are defined within the constructor (init) and can vary from instance to instance."
   ]
  },
  {
   "cell_type": "code",
   "execution_count": 5,
   "metadata": {},
   "outputs": [
    {
     "name": "stdout",
     "output_type": "stream",
     "text": [
      "black\n",
      "blue\n"
     ]
    }
   ],
   "source": [
    "class Car:\n",
    "    def __init__(self,color):\n",
    "        self.color = color  \n",
    "\n",
    "car1 = Car(\"black\")\n",
    "print(car1.color)  \n",
    "\n",
    "car1.color = \"blue\"\n",
    "print(car1.color)  # Output: blue"
   ]
  },
  {
   "cell_type": "markdown",
   "metadata": {},
   "source": [
    "Write a short Python program that defines a class Book with attributes like title, author, and price. Include a method get_book_info that returns a formatted string with this information. Create a Book object and call the method to display the book information."
   ]
  },
  {
   "cell_type": "code",
   "execution_count": 7,
   "metadata": {},
   "outputs": [
    {
     "name": "stdout",
     "output_type": "stream",
     "text": [
      "Python Programming by Kelvin costs $20.\n"
     ]
    }
   ],
   "source": [
    "class Book:\n",
    "    def __init__(self, title, author, price):\n",
    "        self.title = title\n",
    "        self.author = author\n",
    "        self.price = price\n",
    "\n",
    "    def get_book_info(self):\n",
    "        return f\"{self.title} by {self.author} costs ${self.price}.\"\n",
    "\n",
    "# Create a Book object\n",
    "book = Book(\"Python Programming\", \"Kelvin\", 20)\n",
    "\n",
    "# Call the method to display the book information\n",
    "print(book.get_book_info())"
   ]
  },
  {
   "cell_type": "markdown",
   "metadata": {},
   "source": [
    "When would you choose to use a function instead of a method in your Python code? Provide an example to illustrate the difference."
   ]
  },
  {
   "cell_type": "code",
   "execution_count": 11,
   "metadata": {},
   "outputs": [
    {
     "name": "stdout",
     "output_type": "stream",
     "text": [
      "5\n",
      "5\n"
     ]
    }
   ],
   "source": [
    "#function is suitable for tasks like mathematical calculations, data processing, or other operations that do not logically belong to a specific class.\n",
    "\n",
    "def add(x, y):\n",
    "    return x + y\n",
    "\n",
    "result = add(2, 3)\n",
    "print(result) \n",
    "\n",
    "#A method is used when the operation is related to the state or behavior of a specific class or its instances\n",
    "\n",
    "class Calculator:\n",
    "    def __init__(self, value):\n",
    "        self.value = value\n",
    "\n",
    "    def addition(self, x):\n",
    "        self.value += x\n",
    "\n",
    "    def get_value(self):\n",
    "        return self.value\n",
    "\n",
    "calc = Calculator(2)\n",
    "calc.addition(3)\n",
    "print(calc.get_value()) \n"
   ]
  },
  {
   "cell_type": "markdown",
   "metadata": {},
   "source": [
    "Can I use too many static variables in a class? Using too many static variables in a class can lead to a lack of clarity and maintainability in your code. While static variables can be useful for certain situations, overusing them can make the class harder to understand and modify. It's important to use static variables judiciously and consider alternative approaches such as instance variables or methods when appropriate."
   ]
  }
 ],
 "metadata": {
  "kernelspec": {
   "display_name": "Python 3",
   "language": "python",
   "name": "python3"
  },
  "language_info": {
   "codemirror_mode": {
    "name": "ipython",
    "version": 3
   },
   "file_extension": ".py",
   "mimetype": "text/x-python",
   "name": "python",
   "nbconvert_exporter": "python",
   "pygments_lexer": "ipython3",
   "version": "3.11.1"
  }
 },
 "nbformat": 4,
 "nbformat_minor": 2
}
