{
 "cells": [
  {
   "cell_type": "markdown",
   "metadata": {},
   "source": [
    "Create a sample class named Employee with two attributes id and name employee : id name object initializes id and name dynamically for every Employee object created\n",
    "\n",
    "emp = Employee(1, \"coder\")"
   ]
  },
  {
   "cell_type": "code",
   "execution_count": null,
   "metadata": {},
   "outputs": [],
   "source": [
    "class Employee:\n",
    "\n",
    "    def __init__(self, id, name): \n",
    "        self.id = id\n",
    "        self.name = name\n",
    "\n",
    "    def employee_id(self):\n",
    "        print(f\"Employee id of {self.name} is {self.id}\")\n",
    "    \n",
    "emp1 = Employee(101,\"Developer\")\n",
    "emp2 = Employee(102,\"Manager\")\n",
    "emp3 = Employee(103,\"Coder\")\n",
    "\n",
    "emp1.employee_id()\n",
    "emp2.employee_id()\n",
    "emp3.employee_id()\n"
   ]
  }
 ],
 "metadata": {
  "kernelspec": {
   "display_name": "Python 3",
   "language": "python",
   "name": "python3"
  },
  "language_info": {
   "codemirror_mode": {
    "name": "ipython",
    "version": 3
   },
   "file_extension": ".py",
   "mimetype": "text/x-python",
   "name": "python",
   "nbconvert_exporter": "python",
   "pygments_lexer": "ipython3",
   "version": "3.11.1"
  }
 },
 "nbformat": 4,
 "nbformat_minor": 2
}
